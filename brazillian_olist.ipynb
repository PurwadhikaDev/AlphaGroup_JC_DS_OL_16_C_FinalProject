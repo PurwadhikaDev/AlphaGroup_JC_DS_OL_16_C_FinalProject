{
  "cells": [
    {
      "cell_type": "markdown",
      "metadata": {},
      "source": [
        "# EDA"
      ]
    },
    {
      "cell_type": "markdown",
      "metadata": {},
      "source": [
        "# RMF"
      ]
    },
    {
      "cell_type": "markdown",
      "metadata": {},
      "source": [
        "# CHURN PREDICTION"
      ]
    },
    {
      "cell_type": "markdown",
      "metadata": {},
      "source": []
    }
  ],
  "metadata": {
    "language_info": {
      "name": "python"
    }
  },
  "nbformat": 4,
  "nbformat_minor": 2
}
